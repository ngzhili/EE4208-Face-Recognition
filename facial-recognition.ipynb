{
 "cells": [
  {
   "cell_type": "markdown",
   "metadata": {},
   "source": [
    "## Import Dependencies"
   ]
  },
  {
   "cell_type": "code",
   "execution_count": 1,
   "metadata": {},
   "outputs": [],
   "source": [
    "# Import opencv\n",
    "import cv2 "
   ]
  },
  {
   "cell_type": "code",
   "execution_count": null,
   "metadata": {},
   "outputs": [],
   "source": []
  },
  {
   "cell_type": "markdown",
   "metadata": {},
   "source": [
    "## Read Images from directory"
   ]
  },
  {
   "cell_type": "code",
   "execution_count": null,
   "metadata": {},
   "outputs": [],
   "source": []
  },
  {
   "cell_type": "code",
   "execution_count": null,
   "metadata": {},
   "outputs": [],
   "source": []
  },
  {
   "cell_type": "markdown",
   "metadata": {},
   "source": [
    "## Run real-time detection on webcam"
   ]
  },
  {
   "cell_type": "code",
   "execution_count": 2,
   "metadata": {},
   "outputs": [],
   "source": [
    "def face_detect(img):\n",
    "    # Convert into grayscale\n",
    "    gray = cv2.cvtColor(img, cv2.COLOR_BGR2GRAY)\n",
    "\n",
    "    # Documentation: https://realpython.com/face-recognition-with-python/\n",
    "    # https://www.bogotobogo.com/python/ONo pet or pet is dead. Use /start <name> to create a new pet!\n",
    "    # OpenCV_Python/python_opencv3_Image_Object_Detection_Face_Detection_Haar_Cascade_Classifiers.php\n",
    "    # Pre-trained weights: https://github.com/opencv/opencv/tree/master/data/haarcascades\n",
    "\n",
    "    # Detect faces # detection algorithm uses a moving window to detect objects\n",
    "    faces = face_cascade.detectMultiScale(gray, \n",
    "                                            scaleFactor=1.1, # Since some faces may be closer to the camera, they would appear bigger than the faces in the back. The scale factor compensates for this.\n",
    "                                            minNeighbors=4 #minNeighbors defines how many objects are detected near the current one before it declares the face found\n",
    "                                            #minSize=(30, 30), #minSize, meanwhile, gives the size of each window.\n",
    "                                            )\n",
    "    # Draw rectangle around the faces\n",
    "    for (x, y, w, h) in faces:\n",
    "        cv2.rectangle(img, (x, y), (x+w, y+h), (255, 0, 0), 2)\n",
    "\n",
    "    return img, faces"
   ]
  },
  {
   "cell_type": "code",
   "execution_count": 4,
   "metadata": {},
   "outputs": [],
   "source": [
    "import cv2\n",
    "import numpy as np\n",
    "from PIL import Image\n",
    "import os\n",
    "\n",
    "# Load the cascade\n",
    "face_cascade = cv2.CascadeClassifier('haarcascade_frontalface_default.xml')\n",
    "\n",
    "# Open a sample video available in sample-videos\n",
    "video = cv2.VideoCapture(0)\n",
    "width  = video.get(cv2.CAP_PROP_FRAME_WIDTH)   # float\n",
    "height = video.get(cv2.CAP_PROP_FRAME_HEIGHT)\n",
    "fps = video.get(cv2.CAP_PROP_FPS)\n",
    "\n",
    "#fourcc = cv2.VideoWriter_fourcc('M','J','P','G')\n",
    "#fourcc = cv2.VideoWriter_fourcc(*'H264')\n",
    "#fourcc = 0x31637661\n",
    "#fourcc = cv2.VideoWriter_fourcc(*'X264')\n",
    "#fourcc = cv2.VideoWriter_fourcc(*'avc1')\n",
    "#fourcc = 0x31637661\n",
    "#videoWriter = cv2.VideoWriter(f'computer_vision/cv-images/{group_id}_video_temp.mp4', fourcc, fps, (int(width), int(height)))\n",
    "#videoWriter = cv2.VideoWriter(f'computer_vision/cv-images/{group_id}_video_temp.mp4', fourcc, fps, (int(width), int(height)))\n",
    "#if not vcap.isOpened():\n",
    "#    print \"File Cannot be Opened\"\n",
    "\n",
    "prediction_count = 0\n",
    "\n",
    "while(True):\n",
    "    # Capture frame-by-frame\n",
    "\n",
    "    ret, frame = video.read()\n",
    "    if not ret:\n",
    "        print(\"failed to grab frame\")\n",
    "        break\n",
    "    \n",
    "    # Display the resulting frame\n",
    "    #cv2.imshow('frame',frame)\n",
    "\n",
    "    # run face detection\n",
    "    processed_img, predictions = face_detect(frame)\n",
    "\n",
    "    # Display the output\n",
    "    cv2.imshow('face detection', processed_img)\n",
    "    # write image\n",
    "    #cv2.imwrite('petpet/inference-img2.jpg',img)\n",
    "    #cv2.waitKey()\n",
    "\n",
    "    #prediction_count += len(predictions)\n",
    "    # checks which overlay to use\n",
    "    #if os.path.exists('computer_vision/cv-images/'+ str(group_id) + '_overlay_temp.png'):\n",
    "        #overlay_filename = 'computer_vision/cv-images/'+ str(group_id) + '_overlay_temp.png'\n",
    "    #else:\n",
    "        #overlay_filename = 'computer_vision/cv-images/trump-face.png'\n",
    "\n",
    "    # reads overlay image to np array    \n",
    "    #overlay= cv2.imread(overlay_filename, cv2.IMREAD_UNCHANGED)\n",
    "\n",
    "    # superimpose overlay images onto background image\n",
    "    #for (x, y, face_w, face_h) in predictions:\n",
    "        #processed_img = overlay_transparent(processed_img, overlay, x,y,face_w, face_h)\n",
    "\n",
    "    # save processed image\n",
    "\n",
    "    #videoWriter.write(processed_img)\n",
    "\n",
    "    \n",
    "    if cv2.waitKey(10) & 0xFF == ord('q'):\n",
    "            break\n",
    "\n",
    "\n",
    "# When everything done, release the capture\n",
    "video.release()\n",
    "cv2.destroyAllWindows()\n",
    "#videoWriter.release()\n"
   ]
  },
  {
   "cell_type": "code",
   "execution_count": null,
   "metadata": {},
   "outputs": [],
   "source": []
  },
  {
   "cell_type": "code",
   "execution_count": null,
   "metadata": {},
   "outputs": [],
   "source": []
  }
 ],
 "metadata": {
  "kernelspec": {
   "display_name": "Python 3",
   "language": "python",
   "name": "python3"
  },
  "language_info": {
   "codemirror_mode": {
    "name": "ipython",
    "version": 3
   },
   "file_extension": ".py",
   "mimetype": "text/x-python",
   "name": "python",
   "nbconvert_exporter": "python",
   "pygments_lexer": "ipython3",
   "version": "3.7.4"
  },
  "varInspector": {
   "cols": {
    "lenName": 16,
    "lenType": 16,
    "lenVar": 40
   },
   "kernels_config": {
    "python": {
     "delete_cmd_postfix": "",
     "delete_cmd_prefix": "del ",
     "library": "var_list.py",
     "varRefreshCmd": "print(var_dic_list())"
    },
    "r": {
     "delete_cmd_postfix": ") ",
     "delete_cmd_prefix": "rm(",
     "library": "var_list.r",
     "varRefreshCmd": "cat(var_dic_list()) "
    }
   },
   "types_to_exclude": [
    "module",
    "function",
    "builtin_function_or_method",
    "instance",
    "_Feature"
   ],
   "window_display": false
  }
 },
 "nbformat": 4,
 "nbformat_minor": 2
}
